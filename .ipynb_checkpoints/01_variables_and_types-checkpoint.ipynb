{
 "cells": [
  {
   "cell_type": "code",
   "execution_count": 2,
   "id": "117d5116-f323-4efc-ba7b-59943115c7df",
   "metadata": {},
   "outputs": [],
   "source": [
    "#Instanciando Variaveis \n",
    "\n",
    "nome = 'Jhon jones'\n",
    "idade = 27\n",
    "peso = 87.9"
   ]
  },
  {
   "cell_type": "code",
   "execution_count": 3,
   "id": "8f39de15-1f3b-47be-9e21-d6ab27f04f1a",
   "metadata": {},
   "outputs": [
    {
     "data": {
      "text/plain": [
       "'Jhon jones'"
      ]
     },
     "execution_count": 3,
     "metadata": {},
     "output_type": "execute_result"
    }
   ],
   "source": [
    "nome"
   ]
  },
  {
   "cell_type": "code",
   "execution_count": 4,
   "id": "cbe603fc-c978-4201-8ec1-d91c499facbc",
   "metadata": {},
   "outputs": [
    {
     "data": {
      "text/plain": [
       "27"
      ]
     },
     "execution_count": 4,
     "metadata": {},
     "output_type": "execute_result"
    }
   ],
   "source": [
    "idade"
   ]
  },
  {
   "cell_type": "code",
   "execution_count": 5,
   "id": "7be1fbf0-a959-492f-bafb-3d413ce1a854",
   "metadata": {},
   "outputs": [
    {
     "data": {
      "text/plain": [
       "87.9"
      ]
     },
     "execution_count": 5,
     "metadata": {},
     "output_type": "execute_result"
    }
   ],
   "source": [
    "peso"
   ]
  },
  {
   "cell_type": "code",
   "execution_count": 6,
   "id": "a37ba9f7-8b63-4b21-8311-ec95a9ade72a",
   "metadata": {},
   "outputs": [
    {
     "name": "stdout",
     "output_type": "stream",
     "text": [
      "87.9\n"
     ]
    }
   ],
   "source": [
    "print(peso)"
   ]
  },
  {
   "cell_type": "code",
   "execution_count": 7,
   "id": "52ce934a-b8b4-4ead-a52f-6f319bf7305f",
   "metadata": {},
   "outputs": [
    {
     "name": "stdout",
     "output_type": "stream",
     "text": [
      "Jhon jones 87.9 27\n"
     ]
    }
   ],
   "source": [
    "print(nome, peso, idade)"
   ]
  },
  {
   "cell_type": "code",
   "execution_count": 8,
   "id": "85b6344a-51aa-441f-b6d2-af9c91026eda",
   "metadata": {},
   "outputs": [
    {
     "data": {
      "text/plain": [
       "float"
      ]
     },
     "execution_count": 8,
     "metadata": {},
     "output_type": "execute_result"
    }
   ],
   "source": [
    "#Type() usada para descobrir o tipo de uma variavel\n",
    "\n",
    "type(peso)"
   ]
  },
  {
   "cell_type": "code",
   "execution_count": 9,
   "id": "800bb44d-4b2d-48b2-a19d-2bdc7d8abf5d",
   "metadata": {},
   "outputs": [
    {
     "data": {
      "text/plain": [
       "str"
      ]
     },
     "execution_count": 9,
     "metadata": {},
     "output_type": "execute_result"
    }
   ],
   "source": [
    "type(nome)"
   ]
  },
  {
   "cell_type": "code",
   "execution_count": 10,
   "id": "8af25345",
   "metadata": {},
   "outputs": [
    {
     "data": {
      "text/plain": [
       "int"
      ]
     },
     "execution_count": 10,
     "metadata": {},
     "output_type": "execute_result"
    }
   ],
   "source": [
    "type (idade)"
   ]
  },
  {
   "cell_type": "code",
   "execution_count": 11,
   "id": "e5d55265",
   "metadata": {},
   "outputs": [
    {
     "data": {
      "text/plain": [
       "['__add__',\n",
       " '__class__',\n",
       " '__contains__',\n",
       " '__delattr__',\n",
       " '__dir__',\n",
       " '__doc__',\n",
       " '__eq__',\n",
       " '__format__',\n",
       " '__ge__',\n",
       " '__getattribute__',\n",
       " '__getitem__',\n",
       " '__getnewargs__',\n",
       " '__getstate__',\n",
       " '__gt__',\n",
       " '__hash__',\n",
       " '__init__',\n",
       " '__init_subclass__',\n",
       " '__iter__',\n",
       " '__le__',\n",
       " '__len__',\n",
       " '__lt__',\n",
       " '__mod__',\n",
       " '__mul__',\n",
       " '__ne__',\n",
       " '__new__',\n",
       " '__reduce__',\n",
       " '__reduce_ex__',\n",
       " '__repr__',\n",
       " '__rmod__',\n",
       " '__rmul__',\n",
       " '__setattr__',\n",
       " '__sizeof__',\n",
       " '__str__',\n",
       " '__subclasshook__',\n",
       " 'capitalize',\n",
       " 'casefold',\n",
       " 'center',\n",
       " 'count',\n",
       " 'encode',\n",
       " 'endswith',\n",
       " 'expandtabs',\n",
       " 'find',\n",
       " 'format',\n",
       " 'format_map',\n",
       " 'index',\n",
       " 'isalnum',\n",
       " 'isalpha',\n",
       " 'isascii',\n",
       " 'isdecimal',\n",
       " 'isdigit',\n",
       " 'isidentifier',\n",
       " 'islower',\n",
       " 'isnumeric',\n",
       " 'isprintable',\n",
       " 'isspace',\n",
       " 'istitle',\n",
       " 'isupper',\n",
       " 'join',\n",
       " 'ljust',\n",
       " 'lower',\n",
       " 'lstrip',\n",
       " 'maketrans',\n",
       " 'partition',\n",
       " 'removeprefix',\n",
       " 'removesuffix',\n",
       " 'replace',\n",
       " 'rfind',\n",
       " 'rindex',\n",
       " 'rjust',\n",
       " 'rpartition',\n",
       " 'rsplit',\n",
       " 'rstrip',\n",
       " 'split',\n",
       " 'splitlines',\n",
       " 'startswith',\n",
       " 'strip',\n",
       " 'swapcase',\n",
       " 'title',\n",
       " 'translate',\n",
       " 'upper',\n",
       " 'zfill']"
      ]
     },
     "execution_count": 11,
     "metadata": {},
     "output_type": "execute_result"
    }
   ],
   "source": [
    "#Dir() usada para descobrir todos os metodos associados a um objeto;\n",
    "\n",
    "dir(nome)"
   ]
  },
  {
   "cell_type": "code",
   "execution_count": 12,
   "id": "aa699058",
   "metadata": {},
   "outputs": [
    {
     "data": {
      "text/plain": [
       "'JHON JONES'"
      ]
     },
     "execution_count": 12,
     "metadata": {},
     "output_type": "execute_result"
    }
   ],
   "source": [
    "nome.upper()"
   ]
  },
  {
   "cell_type": "code",
   "execution_count": 13,
   "id": "7ed70399",
   "metadata": {},
   "outputs": [
    {
     "name": "stdout",
     "output_type": "stream",
     "text": [
      "hunter 90 1.97\n"
     ]
    }
   ],
   "source": [
    "#Atribuição Múltipla \n",
    "\n",
    "nome, peso, altura = 'hunter', 90, 1.97 \n",
    "print(nome, peso, altura)"
   ]
  },
  {
   "cell_type": "code",
   "execution_count": 14,
   "id": "e90ab94e",
   "metadata": {},
   "outputs": [
    {
     "name": "stdout",
     "output_type": "stream",
     "text": [
      "10 5 15\n"
     ]
    }
   ],
   "source": [
    "###Convesão de Tipos (\"Casting\")\n",
    "a = '10' \n",
    "b = 5 \n",
    "\n",
    "# A função retorna uma cópia convertida do que foi passado pra ela,\n",
    "# ela não altera a variavel que foi passada pra ela.\n",
    "c = int(a) + b\n",
    "print(a, b, c)\n"
   ]
  },
  {
   "cell_type": "code",
   "execution_count": 21,
   "id": "f3415ecc",
   "metadata": {},
   "outputs": [
    {
     "name": "stdout",
     "output_type": "stream",
     "text": [
      "meu nome é hunter \n",
      " e meu peso é 90\n",
      "meun nome é hunter\n",
      " peso 90\n",
      " e 1.97 altura\n"
     ]
    }
   ],
   "source": [
    "###Formatação de textos, para imprimir valores de variaveis junto com uma string/texto, utilize a letra f antes \n",
    "#das primeiras aspas. e coloque a variavel entre{} e o .format também pode ser usado \n",
    "\n",
    "print(f'meu nome é {nome} \\n e meu peso é {peso}')\n",
    "print('meun nome é {0}\\n peso {1}\\n e tenho{2} altura'.format(nome, peso, altura))"
   ]
  },
  {
   "cell_type": "code",
   "execution_count": null,
   "id": "4dec68cf",
   "metadata": {},
   "outputs": [],
   "source": []
  }
 ],
 "metadata": {
  "kernelspec": {
   "display_name": "Python 3 (ipykernel)",
   "language": "python",
   "name": "python3"
  },
  "language_info": {
   "codemirror_mode": {
    "name": "ipython",
    "version": 3
   },
   "file_extension": ".py",
   "mimetype": "text/x-python",
   "name": "python",
   "nbconvert_exporter": "python",
   "pygments_lexer": "ipython3",
   "version": "3.12.2"
  }
 },
 "nbformat": 4,
 "nbformat_minor": 5
}
